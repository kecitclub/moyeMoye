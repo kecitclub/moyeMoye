{
 "cells": [
  {
   "cell_type": "code",
   "execution_count": null,
   "metadata": {
    "vscode": {
     "languageId": "plaintext"
    }
   },
   "outputs": [],
   "source": [
    "from PIL import Image, ImageDraw\n",
    "import numpy as np\n",
    "\n",
    "def add_bottom_gradient_overlay(image_path, primary_color):\n",
    "    # Open and convert image to RGBA\n",
    "    img = Image.open(image_path).convert('RGBA')\n",
    "    width, height = img.size\n",
    "    \n",
    "    # Create a transparent overlay\n",
    "    overlay = Image.new('RGBA', (width, height), (0, 0, 0, 0))\n",
    "    draw = ImageDraw.Draw(overlay)\n",
    "    \n",
    "    # Convert primary color to RGB tuple\n",
    "    color_map = {\n",
    "        'red': (255, 0, 0),\n",
    "        'blue': (0, 0, 255),\n",
    "        'green': (0, 255, 0)\n",
    "    }\n",
    "    \n",
    "    if isinstance(primary_color, str):\n",
    "        color = color_map.get(primary_color.lower(), (255, 0, 0))\n",
    "    else:\n",
    "        color = primary_color\n",
    "        \n",
    "    # Calculate gradient parameters\n",
    "    gradient_height = int(height * 0.75)  # 75% of image height\n",
    "    start_y = height - gradient_height\n",
    "    \n",
    "    # Create gradient overlay\n",
    "    for y in range(start_y, height):\n",
    "        # Calculate opacity (alpha) based on position\n",
    "        progress = (y - start_y) / (height - start_y)\n",
    "        alpha = int(204 * (1 - progress))  # 204 is 80% of 255\n",
    "        \n",
    "        # Draw line with calculated opacity\n",
    "        draw.line([(0, y), (width, y)], fill=color + (alpha,))\n",
    "    \n",
    "    # Composite original image with overlay\n",
    "    result = Image.alpha_composite(img, overlay)\n",
    "    \n",
    "    return result\n",
    "\n",
    "# Example usage:\n",
    "image = add_bottom_gradient_overlay('/content/Screenshot from 2025-01-03 21-49-16.png', 'red')\n",
    "image.save('output_image.png')"
   ]
  },
  {
   "cell_type": "code",
   "execution_count": null,
   "metadata": {
    "vscode": {
     "languageId": "plaintext"
    }
   },
   "outputs": [],
   "source": [
    "from PIL import Image, ImageDraw\n",
    "import numpy as np\n",
    "\n",
    "def add_bottom_gradient_overlay(image_path, primary_color):\n",
    "    # Open and convert image to RGBA\n",
    "    img = Image.open(image_path).convert('RGBA')\n",
    "    width, height = img.size\n",
    "    \n",
    "    # Create a transparent overlay\n",
    "    overlay = Image.new('RGBA', (width, height), (0, 0, 0, 0))\n",
    "    draw = ImageDraw.Draw(overlay)\n",
    "    \n",
    "    # Convert primary color to RGB tuple\n",
    "    color_map = {\n",
    "        'red': (255, 0, 0),\n",
    "        'blue': (0, 0, 255),\n",
    "        'green': (0, 255, 0)\n",
    "    }\n",
    "    \n",
    "    if isinstance(primary_color, str):\n",
    "        color = color_map.get(primary_color.lower(), (255, 0, 0))\n",
    "    else:\n",
    "        color = primary_color\n",
    "        \n",
    "    # Calculate gradient parameters\n",
    "    gradient_height = int(height * 0.75)  # 75% of image height\n",
    "    start_y = height - gradient_height\n",
    "    \n",
    "    # Create gradient overlay\n",
    "    for y in range(start_y, height):\n",
    "        # Calculate opacity (alpha) based on position\n",
    "        progress = (y - start_y) / (height - start_y)\n",
    "        alpha = int(204 * progress)  # 204 is 80% of 255\n",
    "        \n",
    "        # Draw line with calculated opacity\n",
    "        draw.line([(0, y), (width, y)], fill=color + (alpha,))\n",
    "    \n",
    "    # Composite original image with overlay\n",
    "    result = Image.alpha_composite(img, overlay)\n",
    "    \n",
    "    return result\n",
    "\n",
    "#  Example usage:\n",
    "image = add_bottom_gradient_overlay('/content/Screenshot from 2025-01-03 21-49-16.png', 'red')\n",
    "image.save('output_image.png')"
   ]
  }
 ],
 "metadata": {
  "language_info": {
   "name": "python"
  }
 },
 "nbformat": 4,
 "nbformat_minor": 2
}
